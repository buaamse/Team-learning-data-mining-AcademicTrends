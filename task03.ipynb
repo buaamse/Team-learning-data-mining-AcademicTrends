{
 "cells": [
  {
   "cell_type": "code",
   "execution_count": 2,
   "metadata": {},
   "outputs": [],
   "source": [
    "# 导入所需的package\n",
    "import seaborn as sns #用于画图\n",
    "from bs4 import BeautifulSoup #用于爬取arxiv的数据\n",
    "import re #用于正则表达式，匹配字符串的模式\n",
    "import requests #用于网络连接，发送网络请求，使用域名获取对应信息\n",
    "import json #读取数据，我们的数据为json格式的\n",
    "import pandas as pd #数据处理，数据分析\n",
    "import matplotlib.pyplot as plt #画图工具"
   ]
  },
  {
   "cell_type": "code",
   "execution_count": 3,
   "metadata": {},
   "outputs": [],
   "source": [
    "\n",
    "def readArxivFile(path, columns=['id', 'submitter', 'authors', 'title', 'comments', 'journal-ref', 'doi',\n",
    "       'report-no', 'categories', 'license', 'abstract', 'versions',\n",
    "       'update_date', 'authors_parsed'], count=None):\n",
    "    '''\n",
    "    定义读取文件的函数\n",
    "        path: 文件路径\n",
    "        columns: 需要选择的列\n",
    "        count: 读取行数\n",
    "    '''\n",
    "    \n",
    "    data  = []\n",
    "    with open(path, 'r') as f: \n",
    "        for idx, line in enumerate(f): \n",
    "            if idx == count:\n",
    "                break\n",
    "                \n",
    "            d = json.loads(line)\n",
    "            d = {col : d[col] for col in columns}\n",
    "            data.append(d)\n",
    "\n",
    "    data = pd.DataFrame(data)\n",
    "    return data\n",
    "\n",
    "data = readArxivFile('arxiv-metadata-oai-snapshot.json', ['id', 'abstract', 'categories', 'comments'])"
   ]
  },
  {
   "cell_type": "code",
   "execution_count": 4,
   "metadata": {},
   "outputs": [
    {
     "name": "stdout",
     "output_type": "stream",
     "text": [
      "0                    37 pages, 15 figures; published version\n",
      "1                      To appear in Graphs and Combinatorics\n",
      "2                                        23 pages, 3 figures\n",
      "3                                                   11 pages\n",
      "4                                                       None\n",
      "                                 ...                        \n",
      "1796906    19 pages, LaTex, 6 PostScript figures; Author'...\n",
      "1796907    4 pages, LaTeX type, Uses IEEE style files, 60...\n",
      "1796908    20 pages, LaTeX type, Uses REVTeX style files,...\n",
      "1796909    7 pages, 4 PostScript Figures, LaTeX, to appea...\n",
      "1796910    12 pages including 8 eps figs, LaTeX with jpsj...\n",
      "Name: comments, Length: 1796911, dtype: object\n",
      "0          [37 pages]\n",
      "1                  []\n",
      "2          [23 pages]\n",
      "3          [11 pages]\n",
      "4                  []\n",
      "              ...    \n",
      "1796906    [19 pages]\n",
      "1796907     [4 pages]\n",
      "1796908    [20 pages]\n",
      "1796909     [7 pages]\n",
      "1796910    [12 pages]\n",
      "Name: pages, Length: 1796911, dtype: object\n",
      "0          37.0\n",
      "2          23.0\n",
      "3          11.0\n",
      "5           6.0\n",
      "6          16.0\n",
      "           ... \n",
      "1796906    19.0\n",
      "1796907     4.0\n",
      "1796908    20.0\n",
      "1796909     7.0\n",
      "1796910    12.0\n",
      "Name: pages, Length: 1089180, dtype: float64\n"
     ]
    }
   ],
   "source": [
    "# 使用正则表达式匹配，XX pages\n",
    "print(data['comments'])\n",
    "data['pages'] = data['comments'].apply(lambda x: re.findall('[1-9][0-9]* pages', str(x)))\n",
    "print(data['pages'])\n",
    "\n",
    "# 筛选出有pages的论文\n",
    "data = data[data['pages'].apply(len) > 0]\n",
    "\n",
    "# 由于匹配得到的是一个list，如['19 pages']，需要进行转换\n",
    "data['pages'] = data['pages'].apply(lambda x: float(x[0].replace(' pages', '')))\n",
    "print(data['pages'])"
   ]
  },
  {
   "cell_type": "code",
   "execution_count": 5,
   "metadata": {},
   "outputs": [
    {
     "data": {
      "text/plain": [
       "count    1089180\n",
       "mean          17\n",
       "std           22\n",
       "min            1\n",
       "25%            8\n",
       "50%           13\n",
       "75%           22\n",
       "max        11232\n",
       "Name: pages, dtype: int32"
      ]
     },
     "execution_count": 5,
     "metadata": {},
     "output_type": "execute_result"
    }
   ],
   "source": [
    "#data['pages'].describe()\n",
    "data['pages'].describe().astype(int)"
   ]
  },
  {
   "cell_type": "code",
   "execution_count": 6,
   "metadata": {},
   "outputs": [
    {
     "data": {
      "text/plain": [
       "<AxesSubplot:xlabel='categories'>"
      ]
     },
     "execution_count": 6,
     "metadata": {},
     "output_type": "execute_result"
    },
    {
     "data": {
      "image/png": "[encoded data removed]",
      "text/plain": [
       "<Figure size 864x432 with 1 Axes>"
      ]
     },
     "metadata": {
      "needs_background": "light"
     },
     "output_type": "display_data"
    }
   ],
   "source": [
    "# 选择主要类别\n",
    "data['categories'] = data['categories'].apply(lambda x: x.split(' ')[0])\n",
    "data['categories'] = data['categories'].apply(lambda x: x.split('.')[0])\n",
    "\n",
    "# 每类论文的平均页数\n",
    "plt.figure(figsize=(12, 6))\n",
    "data.groupby(['categories'])['pages'].mean().plot(kind='bar')"
   ]
  },
  {
   "cell_type": "code",
   "execution_count": 7,
   "metadata": {},
   "outputs": [
    {
     "name": "stdout",
     "output_type": "stream",
     "text": [
      "0          [15 figures]\n",
      "2           [3 figures]\n",
      "3                    []\n",
      "5           [4 figures]\n",
      "6                    []\n",
      "               ...     \n",
      "1796906              []\n",
      "1796907              []\n",
      "1796908              []\n",
      "1796909              []\n",
      "1796910              []\n",
      "Name: figures, Length: 1089180, dtype: object\n",
      "0          15.0\n",
      "2           3.0\n",
      "5           4.0\n",
      "9          17.0\n",
      "15          3.0\n",
      "           ... \n",
      "1796880     6.0\n",
      "1796885     7.0\n",
      "1796890     3.0\n",
      "1796894     4.0\n",
      "1796902     8.0\n",
      "Name: figures, Length: 621783, dtype: float64\n"
     ]
    },
    {
     "data": {
      "text/plain": [
       "count    621783\n",
       "mean          7\n",
       "std          10\n",
       "min           1\n",
       "25%           4\n",
       "50%           6\n",
       "75%           9\n",
       "max        4989\n",
       "Name: figures, dtype: int32"
      ]
     },
     "execution_count": 7,
     "metadata": {},
     "output_type": "execute_result"
    }
   ],
   "source": [
    "data['figures'] = data['comments'].apply(lambda x: re.findall('[1-9][0-9]* figures', str(x)))\n",
    "print(data['figures'])\n",
    "data = data[data['figures'].apply(len) > 0]\n",
    "data['figures'] = data['figures'].apply(lambda x: float(x[0].replace(' figures', '')))\n",
    "print(data['figures'])\n",
    "data['figures'].describe().astype(int)"
   ]
  },
  {
   "cell_type": "code",
   "execution_count": 8,
   "metadata": {},
   "outputs": [
    {
     "data": {
      "text/plain": [
       "<AxesSubplot:xlabel='categories'>"
      ]
     },
     "execution_count": 8,
     "metadata": {},
     "output_type": "execute_result"
    },
    {
     "data": {
      "image/png": "[encoded data removed]",
      "text/plain": [
       "<Figure size 864x432 with 1 Axes>"
      ]
     },
     "metadata": {
      "needs_background": "light"
     },
     "output_type": "display_data"
    }
   ],
   "source": [
    "# 选择主要类别\n",
    "data['categories'] = data['categories'].apply(lambda x: x.split(' ')[0])\n",
    "data['categories'] = data['categories'].apply(lambda x: x.split('.')[0])\n",
    "\n",
    "# 每类论文的平均页数\n",
    "plt.figure(figsize=(12, 6))\n",
    "data.groupby(['categories'])['figures'].mean().plot(kind='bar')"
   ]
  },
  {
   "cell_type": "code",
   "execution_count": 11,
   "metadata": {},
   "outputs": [
    {
     "name": "stdout",
     "output_type": "stream",
     "text": [
      "                 id                                           abstract  \\\n",
      "253172    1103.5904    Solar tomography has progressed rapidly in r...   \n",
      "254226    1104.0672    We describe a hybrid Fourier/direct space co...   \n",
      "296182    1110.4876    REBOUND is a new multi-purpose N-body code w...   \n",
      "300298    1111.2062    This article proposes a way to improve the p...   \n",
      "311500    1112.5945    The interaction of distinct units in physica...   \n",
      "...             ...                                                ...   \n",
      "1381266  2011.08518    Sequence-based place recognition methods for...   \n",
      "1381310  2011.08562    The target identification in brain-computer ...   \n",
      "1381509  2011.08761    In this paper, we study the problem of imagi...   \n",
      "1381606  2011.08858    We derive a simple prescription for includin...   \n",
      "1382418  2011.09670    Rotation detection serves as a fundamental b...   \n",
      "\n",
      "        categories                                           comments  pages  \\\n",
      "253172    astro-ph                      21 pages, 6 figures, 5 tables   21.0   \n",
      "254226    astro-ph  10 pages, 6 figures. Submitted to Astronomy an...   10.0   \n",
      "296182    astro-ph  10 pages, 9 figures, accepted by A&A, source c...   10.0   \n",
      "300298     physics  10 pages, 7 figures. CODE: https://github.com/...   10.0   \n",
      "311500     physics  Preprint. 24 pages, 4 figures, 2 tables. Sourc...   24.0   \n",
      "...            ...                                                ...    ...   \n",
      "1381266         cs                       9 pages, 6 figures, 2 tables    9.0   \n",
      "1381310         cs                                12 pages, 6 figures   12.0   \n",
      "1381509       eess  10 pages, 2 figures, to be published in STACOM...   10.0   \n",
      "1381606   astro-ph                  14 pages; 6 figures; 3 appendices   14.0   \n",
      "1382418         cs                      12 pages, 6 figures, 8 tables   12.0   \n",
      "\n",
      "         figures  \n",
      "253172       6.0  \n",
      "254226       6.0  \n",
      "296182       9.0  \n",
      "300298       7.0  \n",
      "311500       4.0  \n",
      "...          ...  \n",
      "1381266      6.0  \n",
      "1381310      6.0  \n",
      "1381509      2.0  \n",
      "1381606      6.0  \n",
      "1382418      6.0  \n",
      "\n",
      "[2175 rows x 6 columns]\n",
      "253172       Solar tomography has progressed rapidly in r...\n",
      "254226       We describe a hybrid Fourier/direct space co...\n",
      "296182       REBOUND is a new multi-purpose N-body code w...\n",
      "300298       This article proposes a way to improve the p...\n",
      "311500       The interaction of distinct units in physica...\n",
      "                                 ...                        \n",
      "1381266      Sequence-based place recognition methods for...\n",
      "1381310      The target identification in brain-computer ...\n",
      "1381509      In this paper, we study the problem of imagi...\n",
      "1381606      We derive a simple prescription for includin...\n",
      "1382418      Rotation detection serves as a fundamental b...\n",
      "Name: abstract, Length: 2175, dtype: object\n",
      "253172                         21 pages, 6 figures, 5 tables\n",
      "254226     10 pages, 6 figures. Submitted to Astronomy an...\n",
      "296182     10 pages, 9 figures, accepted by A&A, source c...\n",
      "300298     10 pages, 7 figures. CODE: https://github.com/...\n",
      "311500     Preprint. 24 pages, 4 figures, 2 tables. Sourc...\n",
      "                                 ...                        \n",
      "1381266                         9 pages, 6 figures, 2 tables\n",
      "1381310                                  12 pages, 6 figures\n",
      "1381509    10 pages, 2 figures, to be published in STACOM...\n",
      "1381606                    14 pages; 6 figures; 3 appendices\n",
      "1382418                        12 pages, 6 figures, 8 tables\n",
      "Name: comments, Length: 2175, dtype: object\n",
      "253172       Solar tomography has progressed rapidly in r...\n",
      "254226       We describe a hybrid Fourier/direct space co...\n",
      "296182       REBOUND is a new multi-purpose N-body code w...\n",
      "300298       This article proposes a way to improve the p...\n",
      "311500       The interaction of distinct units in physica...\n",
      "                                 ...                        \n",
      "1381266      Sequence-based place recognition methods for...\n",
      "1381310      The target identification in brain-computer ...\n",
      "1381509      In this paper, we study the problem of imagi...\n",
      "1381606      We derive a simple prescription for includin...\n",
      "1382418      Rotation detection serves as a fundamental b...\n",
      "Name: abstract, Length: 2175, dtype: object\n",
      "253172                         21 pages, 6 figures, 5 tables\n",
      "254226     10 pages, 6 figures. Submitted to Astronomy an...\n",
      "296182     10 pages, 9 figures, accepted by A&A, source c...\n",
      "300298     10 pages, 7 figures. CODE: https://github.com/...\n",
      "311500     Preprint. 24 pages, 4 figures, 2 tables. Sourc...\n",
      "                                 ...                        \n",
      "1381266                         9 pages, 6 figures, 2 tables\n",
      "1381310                                  12 pages, 6 figures\n",
      "1381509    10 pages, 2 figures, to be published in STACOM...\n",
      "1381606                    14 pages; 6 figures; 3 appendices\n",
      "1382418                        12 pages, 6 figures, 8 tables\n",
      "Name: comments, Length: 2175, dtype: object\n",
      "253172     ######  Solar tomography has progressed rapidl...\n",
      "254226     ######  We describe a hybrid Fourier/direct sp...\n",
      "296182     ######  REBOUND is a new multi-purpose N-body ...\n",
      "300298     ######  This article proposes a way to improve...\n",
      "311500     ######  The interaction of distinct units in p...\n",
      "                                 ...                        \n",
      "1381266    ######  Sequence-based place recognition metho...\n",
      "1381310    ######  The target identification in brain-com...\n",
      "1381509    ######  In this paper, we study the problem of...\n",
      "1381606    ######  We derive a simple prescription for in...\n",
      "1382418    ######  Rotation detection serves as a fundame...\n",
      "Name: text, Length: 2175, dtype: object\n",
      "253172     0\n",
      "254226     1\n",
      "296182     1\n",
      "300298     2\n",
      "311500     1\n",
      "          ..\n",
      "1381266    0\n",
      "1381310    1\n",
      "1381509    0\n",
      "1381606    1\n",
      "1382418    2\n",
      "Name: code_flag, Length: 2175, dtype: int64\n"
     ]
    },
    {
     "name": "stderr",
     "output_type": "stream",
     "text": [
      "<ipython-input-11-7ea3cd8f8a99>:10: SettingWithCopyWarning: \n",
      "A value is trying to be set on a copy of a slice from a DataFrame.\n",
      "Try using .loc[row_indexer,col_indexer] = value instead\n",
      "\n",
      "See the caveats in the documentation: https://pandas.pydata.org/pandas-docs/stable/user_guide/indexing.html#returning-a-view-versus-a-copy\n",
      "  data_with_code['text'] = data_with_code['abstract'].fillna('') + data_with_code['comments'].fillna('')\n",
      "<ipython-input-11-7ea3cd8f8a99>:18: SettingWithCopyWarning: \n",
      "A value is trying to be set on a copy of a slice from a DataFrame.\n",
      "Try using .loc[row_indexer,col_indexer] = value instead\n",
      "\n",
      "See the caveats in the documentation: https://pandas.pydata.org/pandas-docs/stable/user_guide/indexing.html#returning-a-view-versus-a-copy\n",
      "  data_with_code['code_flag'] = data_with_code['text'].str.findall(pattern).apply(len)\n"
     ]
    }
   ],
   "source": [
    "# 筛选包含github的论文\n",
    "data_with_code = data[\n",
    "    (data.comments.str.contains('github')==True)|\n",
    "                      (data.abstract.str.contains('github')==True)\n",
    "]\n",
    "print(data_with_code)\n",
    "print(data_with_code['abstract'])\n",
    "print(data_with_code['comments'])\n",
    "\n",
    "data_with_code['text'] = data_with_code['abstract'].fillna('') + data_with_code['comments'].fillna('')\n",
    "\n",
    "print(data_with_code['abstract'])\n",
    "print(data_with_code['comments'])\n",
    "print(\"######\"+data_with_code['text'])\n",
    "\n",
    "# 使用正则表达式匹配论文\n",
    "pattern = '[a-zA-z]+://github[^\\s]*'\n",
    "data_with_code['code_flag'] = data_with_code['text'].str.findall(pattern).apply(len)\n",
    "print(data_with_code['code_flag'])"
   ]
  },
  {
   "cell_type": "code",
   "execution_count": 12,
   "metadata": {},
   "outputs": [
    {
     "name": "stdout",
     "output_type": "stream",
     "text": [
      "                 id                                           abstract  \\\n",
      "254226    1104.0672    We describe a hybrid Fourier/direct space co...   \n",
      "296182    1110.4876    REBOUND is a new multi-purpose N-body code w...   \n",
      "311500    1112.5945    The interaction of distinct units in physica...   \n",
      "317016    1201.5029    There are a number of different phenomena in...   \n",
      "330675    1203.5316    We study the thermalization process in the s...   \n",
      "...             ...                                                ...   \n",
      "1380713  2011.07965    Analyzing large datasets with distributed da...   \n",
      "1381048  2011.08300    We present an instance of a task of mininum-...   \n",
      "1381227  2011.08479    In this work, we study the dynamics of parti...   \n",
      "1381310  2011.08562    The target identification in brain-computer ...   \n",
      "1381606  2011.08858    We derive a simple prescription for includin...   \n",
      "\n",
      "        categories                                           comments  pages  \\\n",
      "254226    astro-ph  10 pages, 6 figures. Submitted to Astronomy an...   10.0   \n",
      "296182    astro-ph  10 pages, 9 figures, accepted by A&A, source c...   10.0   \n",
      "311500     physics  Preprint. 24 pages, 4 figures, 2 tables. Sourc...   24.0   \n",
      "317016    astro-ph         23 pages, 12 figures; some typos corrected   23.0   \n",
      "330675    astro-ph                               11 pages, 12 figures   11.0   \n",
      "...            ...                                                ...    ...   \n",
      "1380713         cs  6 pages, 7 figures, 1 table; Associated experi...    6.0   \n",
      "1381048   quant-ph  6 + 12 pages, 4 figures. Code available at\\n  ...   12.0   \n",
      "1381227   astro-ph  33 pages, 13 figures and 4 tables. Accepted fo...   33.0   \n",
      "1381310         cs                                12 pages, 6 figures   12.0   \n",
      "1381606   astro-ph                  14 pages; 6 figures; 3 appendices   14.0   \n",
      "\n",
      "         figures                                               text  code_flag  \n",
      "254226       6.0    We describe a hybrid Fourier/direct space co...          1  \n",
      "296182       9.0    REBOUND is a new multi-purpose N-body code w...          1  \n",
      "311500       4.0    The interaction of distinct units in physica...          1  \n",
      "317016      12.0    There are a number of different phenomena in...          1  \n",
      "330675      12.0    We study the thermalization process in the s...          1  \n",
      "...          ...                                                ...        ...  \n",
      "1380713      7.0    Analyzing large datasets with distributed da...          1  \n",
      "1381048      4.0    We present an instance of a task of mininum-...          1  \n",
      "1381227     13.0    In this work, we study the dynamics of parti...          1  \n",
      "1381310      6.0    The target identification in brain-computer ...          1  \n",
      "1381606      6.0    We derive a simple prescription for includin...          1  \n",
      "\n",
      "[1818 rows x 8 columns]\n"
     ]
    },
    {
     "data": {
      "text/plain": [
       "<AxesSubplot:xlabel='categories'>"
      ]
     },
     "execution_count": 12,
     "metadata": {},
     "output_type": "execute_result"
    },
    {
     "data": {
      "image/png": "[encoded data removed]",
      "text/plain": [
       "<Figure size 864x432 with 1 Axes>"
      ]
     },
     "metadata": {
      "needs_background": "light"
     },
     "output_type": "display_data"
    }
   ],
   "source": [
    "data_with_code = data_with_code[data_with_code['code_flag'] == 1]\n",
    "print(data_with_code)\n",
    "plt.figure(figsize=(12, 6))\n",
    "data_with_code.groupby(['categories'])['code_flag'].count().plot(kind='bar')"
   ]
  },
  {
   "cell_type": "code",
   "execution_count": null,
   "metadata": {},
   "outputs": [],
   "source": []
  }
 ],
 "metadata": {
  "kernelspec": {
   "display_name": "Python 3",
   "language": "python",
   "name": "python3"
  },
  "language_info": {
   "codemirror_mode": {
    "name": "ipython",
    "version": 3
   },
   "file_extension": ".py",
   "mimetype": "text/x-python",
   "name": "python",
   "nbconvert_exporter": "python",
   "pygments_lexer": "ipython3",
   "version": "3.8.7"
  }
 },
 "nbformat": 4,
 "nbformat_minor": 4
}
