{
 "cells": [
  {
   "cell_type": "code",
   "execution_count": 50,
   "metadata": {},
   "outputs": [],
   "source": [
    "# 导入所需的package\n",
    "import seaborn as sns #用于画图\n",
    "from bs4 import BeautifulSoup #用于爬取arxiv的数据\n",
    "import re #用于正则表达式，匹配字符串的模式\n",
    "import requests #用于网络连接，发送网络请求，使用域名获取对应信息\n",
    "import json #读取数据，我们的数据为json格式的\n",
    "import pandas as pd #数据处理，数据分析\n",
    "import matplotlib.pyplot as plt #画图工具"
   ]
  },
  {
   "cell_type": "code",
   "execution_count": 57,
   "metadata": {},
   "outputs": [],
   "source": [
    "def readArxivFile(path, columns=['id', 'submitter', 'authors', 'title', 'comments', 'journal-ref', 'doi',\n",
    "       'report-no', 'categories', 'license', 'abstract', 'versions',\n",
    "       'update_date', 'authors_parsed'], count=None):\n",
    "    '''\n",
    "    定义读取文件的函数\n",
    "        path: 文件路径\n",
    "        columns: 需要选择的列\n",
    "        count: 读取行数\n",
    "    '''\n",
    "    \n",
    "    data  = []\n",
    "    with open(path, 'r') as f: \n",
    "        for idx, line in enumerate(f): \n",
    "            if idx == count:\n",
    "                break\n",
    "                \n",
    "            d = json.loads(line)\n",
    "            d = {col : d[col] for col in columns}\n",
    "            data.append(d)\n",
    "\n",
    "    data = pd.DataFrame(data)\n",
    "    return data\n",
    "\n",
    "data = readArxivFile('arxiv-metadata-oai-snapshot.json', \n",
    "                     ['id', 'authors', 'categories', 'authors_parsed'],\n",
    "                    100000)"
   ]
  },
  {
   "cell_type": "code",
   "execution_count": 58,
   "metadata": {},
   "outputs": [
    {
     "name": "stdout",
     "output_type": "stream",
     "text": [
      "[['Likforman-Sulem', 'Laurence', ''], ['Zahour', 'Abderrazak', ''], ['Taconet', 'Bruno', ''], ['Nelwamondo', 'Fulufhelo Vincent', ''], ['Marwala', 'Tshilidzi', ''], ['Berglund', 'Erik', ''], ['Sitte', 'Joaquin', ''], ['Zerai', 'Mourad', ''], ['Moakher', 'Maher', ''], ['Marteau', 'Pierre-François', '', 'VALORIA'], ['Ménier', 'Gilbas', '', 'VALORIA'], ['Spiller', 'Jonathan M.', ''], ['Marwala', 'T.', ''], ['Falk', 'D. L.', ''], ['Rubin', 'D. M.', ''], ['Marwala', 'T.', ''], ['Surajpal', 'Dhiresh R.', ''], ['Marwala', 'Tshilidzi', ''], ['Machowski', 'Lukasz A', ''], ['Marwala', 'Tshilidzi', ''], ['Graves', 'Alex', ''], ['Fernandez', 'Santiago', ''], ['Schmidhuber', 'Juergen', ''], ['Cohen', 'Asaf', ''], ['Weissman', 'Tsachy', ''], ['Merhav', 'Neri', ''], ['Jacquet', 'W.', ''], ['de Groen', 'P.', ''], ['Sofge', 'Donald A.', ''], ['Beezley', 'Jonathan D.', ''], ['Mandel', 'Jan', ''], ['Lichtenwalner', 'Peter F.', ''], ['Sofge', 'Donald A.', ''], ['Scurrell', 'Simon', ''], ['Marwala', 'Tshilidzi', ''], ['Rubin', 'David', ''], ['Sofge', 'D. A.', ''], ['Bezzi', 'Michele', ''], ['Groenevelt', 'Robin', ''], ['Coltuc', 'Dinu', '', 'GIPSA-lab'], ['Chassery', 'Jean-Marc', '', 'GIPSA-lab'], ['Bartolo', 'Alexandra', ''], ['McGuire', 'Patrick C.', ''], ['Camilleri', 'Kenneth P.', ''], ['Spiteri', 'Christopher', ''], ['Borg', 'Jonathan C.', ''], ['Farrugia', 'Philip J.', ''], ['Ormo', 'Jens', ''], ['Gomez-Elvira', 'Javier', ''], ['Rodriguez-Manfredi', 'Jose Antonio', ''], ['Diaz-Martinez', 'Enrique', ''], ['Ritter', 'Helge', ''], ['Haschke', 'Robert', ''], ['Oesker', 'Markus', ''], ['Ontrup', 'Joerg', ''], ['Diamant', 'Emanuel', ''], ['Knill', 'Oliver', ''], ['Ramirez-Herran', 'Jose', ''], ['Knill', 'Oliver', ''], ['Ramirez-Herran', 'Jose', ''], ['Knill', 'Oliver', ''], ['Ramirez-Herran', 'Jose', ''], ['Mihailescu', 'Preda', ''], ['Lian', 'Heng', ''], ['Bugeau', 'Aurelie', '', 'IRISA'], ['Pérez', 'Patrick', '', 'IRISA'], ['Héas', 'Patrick', '', 'IRISA'], ['Datcu', 'Mihai', '', 'DLR, Oberpfaffenhofen'], ['McAuley', 'Julian J.', ''], ['Caetano', 'Tiberio S.', ''], ['Barbosa', 'Marconi S.', ''], ['McAuley', 'Julian John', ''], ['Caetano', 'Tiberio S.', ''], ['Alipour', 'Philip B.', ''], ['Kay', 'David A', '', 'Oxford University Computational Laboratory'], ['Tomasi', 'Alessandro', '', 'University of Sussex'], ['Boutin', 'Mireille', ''], ['Kemper', 'Gregor', ''], ['Jiang', 'Wu', ''], ['Ding', 'Fei', ''], ['Xiang', 'Qiao-liang', ''], ['Keysers', 'Daniel', ''], ['Tanaka', 'Harki', ''], ['Ortega', 'Neli Regina Siqueira', ''], ['Galizia', 'Mauricio Stanzione', ''], ['Sobrinho', 'Joao Batista Borges', ''], ['Amato', 'Marcelo Britto Passos', ''], ['Skoric', 'B.', ''], ['Bernal', 'M. Miron', ''], ['Estrada', 'H. Coyote', ''], ['Nazuno', 'J. Figueroa', ''], ['Alipour', 'Philip B.', ''], ['Cunha', 'Arthur', ''], ['Do', 'Minh', ''], ['Vetterli', 'Martin', ''], ['Anthony', 'Gidudu', ''], ['Gregg', 'Hulley', ''], ['Tshilidzi', 'Marwala', ''], ['Ishikawa', 'Hiroshi', ''], ['Breuel', 'Thomas M.', ''], ['Breuel', 'Thomas M.', ''], ['Breuel', 'Thomas M.', ''], ['Deepthi', 'Dasika Ratna', ''], ['Kuchibhotla', 'Sujeet', ''], ['Eswaran', 'K.', ''], ['Pruvot', 'Jean Hugues', '', 'GREYC'], ['Brun', 'Luc', '', 'GREYC'], ['Palaiyanur', 'Hari', ''], ['Chang', 'Cheng', ''], ['Sahai', 'Anant', ''], ['Anguelov', 'Roumen', ''], ['Plaskitt', 'Inger', ''], ['Lai', 'Po-Hsiang', ''], [\"O'Sullivan\", 'Joseph A.', ''], ['Goparaju', 'Sreechakra', ''], ['Acharya', 'Jayadev', ''], ['Ray', 'Ajoy K.', ''], ['Goswami', 'Jaideva C.', ''], ['Wang', 'Dao-Shun', ''], ['Yi', 'Feng', ''], ['Li', 'Xiaobo', ''], ['Zaslavskiy', 'Mikhail', ''], ['Bach', 'Francis', ''], ['Vert', 'Jean-Philippe', ''], ['Jafri', 'Syed Ali Raza', ''], ['Boutin', 'Mireille', ''], ['Delp', 'Edward J.', ''], ['Lian', 'Heng', ''], ['Pal', 'Mahesh', ''], ['Pal', 'Mahesh', ''], ['Mather', 'Paul M.', ''], ['Pal', 'Mahesh', ''], ['Arsinte', 'Radu', ''], ['Ilioaei', 'Ciprian', ''], ['Arsinte', 'Radu', ''], ['Murtagh', 'Fionn', ''], ['Starck', 'Jean-Luc', ''], ['Hochbaum', 'Dorit S.', ''], ['Arsinte', 'Radu', ''], ['Miron', 'Costin', ''], ['Springett', 'Jarrad', ''], ['Vendrig', 'Jeroen', ''], ['Chen', 'Li', ''], ['Fernandes', 'C.', ''], ['Mora', 'A. M.', ''], ['Merelo', 'J. J.', ''], ['Ramos', 'V.', ''], ['Laredo', 'J. L. J.', ''], ['Konnik', 'Mikhail V.', ''], ['Xu', 'Zhiqiang', ''], ['Xu', 'Guoliang', ''], ['Garcia', 'Vincent', ''], ['Debreuve', 'Eric', ''], ['Barlaud', 'Michel', ''], ['Chen', 'Li', ''], ['Rong', 'Yongwu', ''], ['Choudhury', 'Pabitra Pal', ''], ['Nayak', 'Birendra Kumar', ''], ['Sahoo', 'Sudhakar', ''], ['Rath', 'Sunil Pankaj', ''], ['Leandro', 'J. J. G.', ''], ['Cesar', 'R. M.', 'Jr'], ['Costa', 'L. da F.', ''], ['Bao', 'Forrest Sheng', ''], ['Lie', 'Donald Yu-Chun', ''], ['Zhang', 'Yuanlin', ''], [\"d'Amico\", 'M.', ''], ['Frosini', 'P.', ''], ['Landi', 'C.', ''], ['Noma', 'Alexandre', ''], ['Graciano', 'Ana B. V.', ''], ['Consularo', 'Luis Augusto', ''], ['Cesar-Jr', 'Roberto M.', ''], ['Bloch', 'Isabelle', ''], ['Yu', 'Zhang', ''], ['Zhong-ke', 'Shi', ''], ['Run-quan', 'Wang', ''], ['Konnik', 'M. V.', ''], ['Manykin', 'E. A.', ''], ['Starikov', 'S. N.', ''], ['Lecellier', 'François', ''], ['Jehan-Besson', 'Stéphanie', ''], ['Fadili', 'Jalal', ''], ['Aubert', 'Gilles', ''], ['Revenu', 'Marinette', ''], ['Lecellier', 'François', ''], ['Jehan-Besson', 'Stéphanie', ''], ['Fadili', 'Jalal', ''], ['Aubert', 'Gilles', ''], ['Revenu', 'Marinette', ''], ['Saloux', 'Eric', ''], ['Lopes', 'Fabricio Martins', ''], ['Martins-Jr', 'David Correa', ''], ['Cesar-Jr', 'Roberto M.', ''], ['Jia', 'Hongjun', ''], ['Zhang', 'Li', ''], ['Holm', 'Darryl D.', ''], ['Trouve', 'Alain', ''], ['Younes', 'Laurent', ''], ['Patrangenaru', 'V.', ''], ['Liu', 'X.', ''], ['Sugathadasa', 'S.', ''], ['Yu', 'Guoshen', ''], ['Slotine', 'Jean-Jacques', ''], ['Martin', 'Arnaud', '', 'E3I2'], ['Laanaya', 'Hicham', '', 'E3I2'], ['Arnold-Bos', 'Andreas', '', 'E3I2'], ['Martin', 'Arnaud', '', 'E3I2'], ['Osswald', 'Christophe', '', 'E3I2'], ['Feng', 'S.', ''], ['Kogan', 'I. A.', ''], ['Krim', 'H.', ''], ['Martin', 'Arnaud', '', 'E3I2'], ['Martin', 'Arnaud', '', 'E3I2'], ['Osswald', 'Christophe', '', 'E3I2'], ['Martin', 'Arnaud', '', 'E3I2'], ['Osswald', 'Christophe', '', 'E3I2'], ['Caetano', 'Tiberio S.', ''], ['McAuley', 'Julian J.', ''], ['Cheng', 'Li', ''], ['Le', 'Quoc V.', ''], ['Smola', 'Alex J.', ''], ['Tariel', 'Vincent', ''], ['Tariel', 'Vincent', ''], ['Tariel', 'Vincent', ''], ['Tariel', 'Vincent', ''], ['Mitrokotsa', 'Aikaterini', ''], ['Dimitrakakis', 'Christos', ''], ['Douligeris', 'Christos', ''], ['Kalantari', 'Mahzad', ''], ['Jung', 'Franck', ''], ['Guedon', 'JeanPierre', ''], ['Paparoditis', 'Nicolas', ''], ['Yu', 'Guoshen', ''], ['Slotine', 'Jean-Jacques', ''], ['Miravet', 'Carlos', ''], ['Pascual', 'Luis', ''], ['Krouch', 'Eloise', ''], ['del Cura', 'Juan Manuel', ''], ['Sparavigna', 'A.', ''], ['Marazzato', 'R.', ''], ['Diamant', 'Emanuel', ''], ['Prasetyo', 'Eri', ''], ['Afandi', 'Hamzah', ''], ['Ginhac', 'Nurul Huda Dominique', ''], ['Paindavoine', 'Michel', ''], ['Prasetyo', 'Eri', ''], ['Ginhac', 'Dominique', ''], ['Paindavoine', 'Michel', ''], ['Bhattacharya', 'C', ''], ['Brouwer', 'William', ''], ['Kataria', 'Saurabh', ''], ['Das', 'Sujatha', ''], ['Mitra', 'Prasenjit', ''], ['Giles', 'C. L.', ''], ['Mairal', 'Julien', '', 'WILLOW'], ['Bach', 'Francis', '', 'WILLOW'], ['Ponce', 'Jean', '', 'WILLOW,\\n  LIENS'], ['Sapiro', 'Guillermo', '', 'WILLOW, VGG'], ['Zisserman', 'Andrew', '', 'WILLOW, VGG'], ['Kuehn', 'Steffen', ''], ['McAuley', 'Julian J.', ''], ['Caetano', 'Tiberio S.', ''], ['Smola', 'Alexander J.', ''], ['Kühn', 'Steffen', ''], ['Gühmann', 'Clemens', ''], ['Yu', 'Guoshen', ''], ['Slotine', 'Jean-Jacques', ''], ['Vasiloglou', 'Nikolaos', ''], ['Gray', 'Alexander G.', ''], ['Anderson', 'David V.', ''], ['Rosten', 'Edward', ''], ['Porter', 'Reid', ''], ['Drummond', 'Tom', ''], ['Koroutchev', 'K.', ''], ['Korutcheva', 'E.', ''], ['Dupé', 'François-Xavier', '', 'GREYC'], ['Brun', 'Luc', '', 'GREYC'], ['Hogg', 'David W.', '', 'NYU'], ['Lang', 'Dustin', '', 'Toronto'], ['Schraudolph', 'Nicol N.', ''], ['Kamenetsky', 'Dmitry', ''], ['Rosten', 'Edward', ''], ['Loveland', 'Rohan', ''], ['Kokiopoulou', 'Effrosyni', ''], ['Frossard', 'Pascal', ''], ['Llonch', 'R. Sala', ''], ['Kokiopoulou', 'E.', ''], ['Tosic', 'I.', ''], ['Frossard', 'P.', ''], ['Ris', 'Marcelo', ''], ['Barrera', 'Junior', ''], ['Martins', 'David C.', 'Jr'], ['Cerri', 'Andrea', ''], ['Frosini', 'Patrizio', ''], ['Zivny', 'Stanislav', ''], ['Cohen', 'David A.', ''], ['Jeavons', 'Peter G.', ''], ['Lemire', 'Daniel', ''], ['Bogevolnov', 'Justislav', ''], ['Jiang', 'Bin', ''], ['Liu', 'Xintao', ''], ['Sparavigna', 'A.', ''], ['Marazzato', 'R.', ''], ['Morgan', 'Simon P.', ''], ['Yin', 'Wotao', ''], ['Vixie', 'Kevin R.', ''], ['Li', 'Qiang', ''], ['He', 'Yan', ''], ['Jiang', 'Jing-ping', ''], ['Feng', 'Guihuan', '', 'IRCCyN'], ['Viard-Gaudin', 'Christian', '', 'IRCCyN'], ['Alagoz', 'B. Baykant', ''], ['Abenius', 'Tobias', ''], ['Valiollahzadeh', 'Seyyed Majid', ''], ['Sayadiyan', 'Abolghasem', ''], ['Nazari', 'Mohammad', ''], ['Valiollahzadeh', 'Seyyed Majid', ''], ['Sayadiyan', 'Abolghasem', ''], ['Nazari', 'Mohammad', ''], ['Zayyani', 'Hadi.', ''], ['Valiollahzadeh', 'Seyyedmajid', ''], ['Babaie-Zadeh', 'Massoud.', '']]\n"
     ]
    }
   ],
   "source": [
    "# 选择类别为cs.CV下面的论文\n",
    "data2 = data[data['categories'].apply(lambda x: 'cs.CV' in x)]\n",
    "\n",
    "# 拼接所有作者\n",
    "all_authors = sum(data2['authors_parsed'], [])\n",
    "print(all_authors)"
   ]
  },
  {
   "cell_type": "code",
   "execution_count": 59,
   "metadata": {
    "scrolled": true
   },
   "outputs": [
    {
     "name": "stdout",
     "output_type": "stream",
     "text": [
      "                                 0\n",
      "0        Likforman-Sulem Laurence \n",
      "1               Zahour Abderrazak \n",
      "2                   Taconet Bruno \n",
      "3    Nelwamondo Fulufhelo Vincent \n",
      "4               Marwala Tshilidzi \n",
      "..                             ...\n",
      "318          Sayadiyan Abolghasem \n",
      "319               Nazari Mohammad \n",
      "320                 Zayyani Hadi. \n",
      "321    Valiollahzadeh Seyyedmajid \n",
      "322         Babaie-Zadeh Massoud. \n",
      "\n",
      "[323 rows x 1 columns]\n"
     ]
    },
    {
     "data": {
      "text/plain": [
       "Text(0.5, 0, 'Count')"
      ]
     },
     "execution_count": 59,
     "metadata": {},
     "output_type": "execute_result"
    },
    {
     "data": {
      "image/png": "[encoded data removed]",
      "text/plain": [
       "<Figure size 720x432 with 1 Axes>"
      ]
     },
     "metadata": {
      "needs_background": "light"
     },
     "output_type": "display_data"
    }
   ],
   "source": [
    "# 拼接所有的作者\n",
    "authors_names = [' '.join(x) for x in all_authors]\n",
    "authors_names = pd.DataFrame(authors_names)\n",
    "print(authors_names)\n",
    "\n",
    "# 根据作者频率绘制直方图\n",
    "plt.figure(figsize=(10, 6))\n",
    "authors_names[0].value_counts().head(10).plot(kind='barh')\n",
    "\n",
    "# 修改图配置\n",
    "names = authors_names[0].value_counts().index.values[:10]\n",
    "_ = plt.yticks(range(0, len(names)), names)\n",
    "plt.ylabel('Author')\n",
    "plt.xlabel('Count')"
   ]
  },
  {
   "cell_type": "code",
   "execution_count": 60,
   "metadata": {},
   "outputs": [
    {
     "data": {
      "text/plain": [
       "Text(0.5, 0, 'Count')"
      ]
     },
     "execution_count": 60,
     "metadata": {},
     "output_type": "execute_result"
    },
    {
     "data": {
      "image/png": "[encoded data removed]",
      "text/plain": [
       "<Figure size 720x432 with 1 Axes>"
      ]
     },
     "metadata": {
      "needs_background": "light"
     },
     "output_type": "display_data"
    }
   ],
   "source": [
    "#接下来统计姓名姓，也就是authors_parsed字段中作者第一个单词：\n",
    "\n",
    "authors_lastnames = [x[0] for x in all_authors]\n",
    "authors_lastnames = pd.DataFrame(authors_lastnames)\n",
    "\n",
    "plt.figure(figsize=(10, 6))\n",
    "authors_lastnames[0].value_counts().head(10).plot(kind='barh')\n",
    "\n",
    "names = authors_lastnames[0].value_counts().index.values[:10]\n",
    "_ = plt.yticks(range(0, len(names)), names)\n",
    "plt.ylabel('Author')\n",
    "plt.xlabel('Count')"
   ]
  },
  {
   "cell_type": "code",
   "execution_count": 61,
   "metadata": {},
   "outputs": [
    {
     "name": "stdout",
     "output_type": "stream",
     "text": [
      "['L', 'Z', 'T', 'N', 'M', 'B', 'S', 'Z', 'M', 'M', 'M', 'S', 'M', 'F', 'R', 'M', 'S', 'M', 'M', 'M', 'G', 'F', 'S', 'C', 'W', 'M', 'J', 'd', 'S', 'B', 'M', 'L', 'S', 'S', 'M', 'R', 'S', 'B', 'G', 'C', 'C', 'B', 'M', 'C', 'S', 'B', 'F', 'O', 'G', 'R', 'D', 'R', 'H', 'O', 'O', 'D', 'K', 'R', 'K', 'R', 'K', 'R', 'M', 'L', 'B', 'P', 'H', 'D', 'M', 'C', 'B', 'M', 'C', 'A', 'K', 'T', 'B', 'K', 'J', 'D', 'X', 'K', 'T', 'O', 'G', 'S', 'A', 'S', 'B', 'E', 'N', 'A', 'C', 'D', 'V', 'A', 'G', 'T', 'I', 'B', 'B', 'B', 'D', 'K', 'E', 'P', 'B', 'P', 'C', 'S', 'A', 'P', 'L', 'O', 'G', 'A', 'R', 'G', 'W', 'Y', 'L', 'Z', 'B', 'V', 'J', 'B', 'D', 'L', 'P', 'P', 'M', 'P', 'A', 'I', 'A', 'M', 'S', 'H', 'A', 'M', 'S', 'V', 'C', 'F', 'M', 'M', 'R', 'L', 'K', 'X', 'X', 'G', 'D', 'B', 'C', 'R', 'C', 'N', 'S', 'R', 'L', 'C', 'C', 'B', 'L', 'Z', 'd', 'F', 'L', 'N', 'G', 'C', 'C', 'B', 'Y', 'Z', 'R', 'K', 'M', 'S', 'L', 'J', 'F', 'A', 'R', 'L', 'J', 'F', 'A', 'R', 'S', 'L', 'M', 'C', 'J', 'Z', 'H', 'T', 'Y', 'P', 'L', 'S', 'Y', 'S', 'M', 'L', 'A', 'M', 'O', 'F', 'K', 'K', 'M', 'M', 'O', 'M', 'O', 'C', 'M', 'C', 'L', 'S', 'T', 'T', 'T', 'T', 'M', 'D', 'D', 'K', 'J', 'G', 'P', 'Y', 'S', 'M', 'P', 'K', 'd', 'S', 'M', 'D', 'P', 'A', 'G', 'P', 'P', 'G', 'P', 'B', 'B', 'K', 'D', 'M', 'G', 'M', 'B', 'P', 'S', 'Z', 'K', 'M', 'C', 'S', 'K', 'G', 'Y', 'S', 'V', 'G', 'A', 'R', 'P', 'D', 'K', 'K', 'D', 'B', 'H', 'L', 'S', 'K', 'R', 'L', 'K', 'F', 'L', 'K', 'T', 'F', 'R', 'B', 'M', 'C', 'F', 'Z', 'C', 'J', 'L', 'B', 'J', 'L', 'S', 'M', 'M', 'Y', 'V', 'L', 'H', 'J', 'F', 'V', 'A', 'A', 'V', 'S', 'N', 'V', 'S', 'N', 'Z', 'V', 'B']\n",
      "     0\n",
      "0    L\n",
      "1    Z\n",
      "2    T\n",
      "3    N\n",
      "4    M\n",
      "..  ..\n",
      "318  S\n",
      "319  N\n",
      "320  Z\n",
      "321  V\n",
      "322  B\n",
      "\n",
      "[323 rows x 1 columns]\n",
      "0      L\n",
      "1      Z\n",
      "2      T\n",
      "3      N\n",
      "4      M\n",
      "      ..\n",
      "318    S\n",
      "319    N\n",
      "320    Z\n",
      "321    V\n",
      "322    B\n",
      "Name: 0, Length: 323, dtype: object\n"
     ]
    },
    {
     "data": {
      "text/plain": [
       "Text(0.5, 0, 'First_alphabet')"
      ]
     },
     "execution_count": 61,
     "metadata": {},
     "output_type": "execute_result"
    },
    {
     "data": {
      "image/png": "[encoded data removed]",
      "text/plain": [
       "<Figure size 720x432 with 1 Axes>"
      ]
     },
     "metadata": {
      "needs_background": "light"
     },
     "output_type": "display_data"
    }
   ],
   "source": [
    "#统计所有作者姓第一个字符的频率，这个流程与上述的类似\n",
    "\n",
    "authors_lastnames = [x[0] for x in all_authors]\n",
    "authors_firstOne = [x[0] for x in authors_lastnames]\n",
    "print(authors_firstOne)\n",
    "authors_firstOne = pd.DataFrame(authors_firstOne)\n",
    "print(authors_firstOne)\n",
    "print(authors_firstOne[0])\n",
    "\n",
    "plt.figure(figsize=(10, 6))\n",
    "authors_firstOne[0].value_counts().head(15).plot(kind='bar')\n",
    "\n",
    "names = authors_firstOne[0].value_counts().index.values[:15]\n",
    "_ = plt.xticks(range(0, len(names)), names)\n",
    "plt.ylabel('Count')\n",
    "plt.xlabel('First_alphabet')"
   ]
  },
  {
   "cell_type": "code",
   "execution_count": null,
   "metadata": {},
   "outputs": [],
   "source": []
  },
  {
   "cell_type": "code",
   "execution_count": null,
   "metadata": {},
   "outputs": [],
   "source": []
  }
 ],
 "metadata": {
  "kernelspec": {
   "display_name": "Python 3",
   "language": "python",
   "name": "python3"
  },
  "language_info": {
   "codemirror_mode": {
    "name": "ipython",
    "version": 3
   },
   "file_extension": ".py",
   "mimetype": "text/x-python",
   "name": "python",
   "nbconvert_exporter": "python",
   "pygments_lexer": "ipython3",
   "version": "3.8.7"
  }
 },
 "nbformat": 4,
 "nbformat_minor": 4
}
